{
 "cells": [
  {
   "cell_type": "code",
   "execution_count": 1,
   "id": "5cae6ce0-fdf0-48e7-ae8a-07c98e592aa0",
   "metadata": {
    "tags": []
   },
   "outputs": [],
   "source": [
    "import sagemaker\n",
    "from sagemaker.sklearn.model import SKLearnModel\n",
    "from sagemaker.serializers import CSVSerializer\n",
    "from sagemaker.model_monitor import DataCaptureConfig\n",
    "import boto3\n",
    "from sagemaker import get_execution_role, session, Session"
   ]
  },
  {
   "cell_type": "code",
   "execution_count": 2,
   "id": "cfaaacd6-6f7e-4349-b4c8-d9214db31577",
   "metadata": {
    "tags": []
   },
   "outputs": [],
   "source": [
    "model = SKLearnModel(model_data='s3://sagemaker-us-east-1-484322141311/sagemaker-scikit-learn-2023-04-08-01-55-03-087/output/model.tar.gz',\n",
    "                    entry_point='entry_point.py',\n",
    "                    role='Labrole',\n",
    "                    framework_version='1.0-1')"
   ]
  },
  {
   "cell_type": "code",
   "execution_count": null,
   "id": "43988c1f-3755-4c6d-b4db-3f942a00c61d",
   "metadata": {
    "tags": []
   },
   "outputs": [],
   "source": [
    "s3_capture_upload_path = 's3://final-dollar-semestre3-sa/dollar/inferences/'\n",
    "endpoint_name = 'dollar-endpoint'\n",
    "data_capture_config = DataCaptureConfig(\n",
    "    enable_capture=True, sampling_percentage=100, destination_s3_uri=s3_capture_upload_path\n",
    ")\n",
    "\n",
    "predictor = model.deploy(instance_type='ml.m4.xlarge', \n",
    "                        initial_instance_count=1,\n",
    "                        serializer=CSVSerializer(),\n",
    "                        endpoint_name=endpoint_name,\n",
    "                        data_capture_config=data_capture_config)"
   ]
  },
  {
   "cell_type": "code",
   "execution_count": null,
   "id": "85e11f13-a90d-4404-bf28-347284df85de",
   "metadata": {
    "tags": []
   },
   "outputs": [],
   "source": [
    "predictor.predict([[738615]])"
   ]
  },
  {
   "cell_type": "code",
   "execution_count": null,
   "id": "ce44f96d-bd34-4657-94a8-21b263f25fc1",
   "metadata": {
    "tags": []
   },
   "outputs": [],
   "source": [
    "session = Session()\n",
    "payload = '738615'\n",
    "response = session.sagemaker_runtime_client.invoke_endpoint(\n",
    "                EndpointName=endpoint_name,\n",
    "                ContentType=\"text/csv\",\n",
    "                Body=payload,\n",
    "                InferenceId='1',  # unique ID per row\n",
    "            )[\"Body\"].read()"
   ]
  },
  {
   "cell_type": "code",
   "execution_count": null,
   "id": "de5eb418-3132-4920-ba21-0ac5faf13630",
   "metadata": {
    "tags": []
   },
   "outputs": [],
   "source": [
    "response"
   ]
  },
  {
   "cell_type": "code",
   "execution_count": null,
   "id": "60651579-b2d9-4d01-b722-5b194c44dd0f",
   "metadata": {
    "tags": []
   },
   "outputs": [],
   "source": [
    "#Otra prueba"
   ]
  },
  {
   "cell_type": "code",
   "execution_count": null,
   "id": "090c840b-c0fe-48cf-b745-94b630613e0b",
   "metadata": {},
   "outputs": [],
   "source": [
    "train_channel = sagemaker.TrainingInput('s3://final-dollar-semestre3-sa/dollar/train', content_type='csv')\n",
    "val_channel = sagemaker.TrainingInput('s3://final-dollar-semestre3-sa/dollar/test', content_type='csv')"
   ]
  },
  {
   "cell_type": "code",
   "execution_count": null,
   "id": "c8148fe4-e927-4e8e-bed8-c99c6bf12884",
   "metadata": {},
   "outputs": [],
   "source": [
    "tuner.fit(\n",
    "    {'train': train_channel, 'test': val_channel}\n",
    ")"
   ]
  }
 ],
 "metadata": {
  "kernelspec": {
   "display_name": "conda_python3",
   "language": "python",
   "name": "conda_python3"
  },
  "language_info": {
   "codemirror_mode": {
    "name": "ipython",
    "version": 3
   },
   "file_extension": ".py",
   "mimetype": "text/x-python",
   "name": "python",
   "nbconvert_exporter": "python",
   "pygments_lexer": "ipython3",
   "version": "3.10.8"
  }
 },
 "nbformat": 4,
 "nbformat_minor": 5
}
