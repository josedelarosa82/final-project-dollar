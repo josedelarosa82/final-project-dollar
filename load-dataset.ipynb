{
 "cells": [
  {
   "cell_type": "code",
   "execution_count": 16,
   "id": "3bc9b62b-1c1d-44fc-85f6-50ffb8e80837",
   "metadata": {
    "tags": []
   },
   "outputs": [],
   "source": [
    "import boto3\n",
    "import pandas as pd\n",
    "from sklearn.model_selection import train_test_split\n",
    "import datetime as dt"
   ]
  },
  {
   "cell_type": "code",
   "execution_count": 11,
   "id": "62d4332c-b110-4042-90f7-38839b5e141e",
   "metadata": {
    "tags": []
   },
   "outputs": [
    {
     "name": "stdout",
     "output_type": "stream",
     "text": [
      "Load file: s3://final-dollar-semestre3-sa/dollar-2023-04-07.csv\n"
     ]
    }
   ],
   "source": [
    "bucket_name = 'final-dollar-semestre3-sa'\n",
    "s3 = boto3.resource('s3')\n",
    "bucket = s3.Bucket(bucket_name)\n",
    "files = []\n",
    "for obj in bucket.objects.all():\n",
    "    key = obj.key\n",
    "    #body = obj.get()['Body'].read()\n",
    "    file_name = 's3://' + bucket_name + '/' + key\n",
    "    if key != 'dollar/':\n",
    "        print(f\"Load file: {file_name}\")\n",
    "        files.append(file_name)"
   ]
  },
  {
   "cell_type": "code",
   "execution_count": 12,
   "id": "be198f23-e519-4e6b-ab49-a4a113abdd2a",
   "metadata": {
    "tags": []
   },
   "outputs": [],
   "source": [
    "df_dollar = pd.concat( map(pd.read_csv, files), ignore_index=True)"
   ]
  },
  {
   "cell_type": "code",
   "execution_count": 13,
   "id": "d9b77d99-593c-4f28-8f50-aaf4236f06fb",
   "metadata": {
    "tags": []
   },
   "outputs": [
    {
     "data": {
      "text/html": [
       "<div>\n",
       "<style scoped>\n",
       "    .dataframe tbody tr th:only-of-type {\n",
       "        vertical-align: middle;\n",
       "    }\n",
       "\n",
       "    .dataframe tbody tr th {\n",
       "        vertical-align: top;\n",
       "    }\n",
       "\n",
       "    .dataframe thead th {\n",
       "        text-align: right;\n",
       "    }\n",
       "</style>\n",
       "<table border=\"1\" class=\"dataframe\">\n",
       "  <thead>\n",
       "    <tr style=\"text-align: right;\">\n",
       "      <th></th>\n",
       "      <th>fecha</th>\n",
       "      <th>value</th>\n",
       "    </tr>\n",
       "  </thead>\n",
       "  <tbody>\n",
       "    <tr>\n",
       "      <th>0</th>\n",
       "      <td>2023-04-05 13:07:19</td>\n",
       "      <td>4572.7800</td>\n",
       "    </tr>\n",
       "    <tr>\n",
       "      <th>1</th>\n",
       "      <td>2023-04-05 13:10:03</td>\n",
       "      <td>4572.9031</td>\n",
       "    </tr>\n",
       "    <tr>\n",
       "      <th>2</th>\n",
       "      <td>2023-04-05 13:10:22</td>\n",
       "      <td>4572.8265</td>\n",
       "    </tr>\n",
       "    <tr>\n",
       "      <th>3</th>\n",
       "      <td>2023-04-05 13:11:13</td>\n",
       "      <td>4573.0595</td>\n",
       "    </tr>\n",
       "    <tr>\n",
       "      <th>4</th>\n",
       "      <td>2023-04-05 13:11:58</td>\n",
       "      <td>4573.1477</td>\n",
       "    </tr>\n",
       "  </tbody>\n",
       "</table>\n",
       "</div>"
      ],
      "text/plain": [
       "                 fecha      value\n",
       "0  2023-04-05 13:07:19  4572.7800\n",
       "1  2023-04-05 13:10:03  4572.9031\n",
       "2  2023-04-05 13:10:22  4572.8265\n",
       "3  2023-04-05 13:11:13  4573.0595\n",
       "4  2023-04-05 13:11:58  4573.1477"
      ]
     },
     "execution_count": 13,
     "metadata": {},
     "output_type": "execute_result"
    }
   ],
   "source": [
    "df_dollar.head(5)"
   ]
  },
  {
   "cell_type": "code",
   "execution_count": 15,
   "id": "75b43393-103d-4333-9d64-124ec2f7839f",
   "metadata": {
    "tags": []
   },
   "outputs": [],
   "source": [
    "train, test = train_test_split(df_dollar, test_size=0.2, shuffle=False)"
   ]
  },
  {
   "cell_type": "code",
   "execution_count": 23,
   "id": "69bc6bf7-1f22-44c6-bd5e-d2b813238b6b",
   "metadata": {
    "tags": []
   },
   "outputs": [],
   "source": [
    "train.to_csv('data/train.csv', index=False)"
   ]
  },
  {
   "cell_type": "code",
   "execution_count": 24,
   "id": "5f92d817-2107-42ba-9165-c9bf644c2e3b",
   "metadata": {
    "tags": []
   },
   "outputs": [],
   "source": [
    "test.to_csv('data/test.csv', index=False)"
   ]
  },
  {
   "cell_type": "code",
   "execution_count": 27,
   "id": "ff0a46ad-e0de-4e3d-8aa9-26354a8cadf4",
   "metadata": {
    "tags": []
   },
   "outputs": [
    {
     "data": {
      "text/plain": [
       "{'ResponseMetadata': {'RequestId': '54TZ69YFE0JA8F2E',\n",
       "  'HostId': 'xKW130s6ubQvxxoaDoxMNgh72+zIIMdRKlM2UAPl9rZtzTq5YDdMrEwr96kUzamXj9taJPWKh58=',\n",
       "  'HTTPStatusCode': 200,\n",
       "  'HTTPHeaders': {'x-amz-id-2': 'xKW130s6ubQvxxoaDoxMNgh72+zIIMdRKlM2UAPl9rZtzTq5YDdMrEwr96kUzamXj9taJPWKh58=',\n",
       "   'x-amz-request-id': '54TZ69YFE0JA8F2E',\n",
       "   'date': 'Fri, 07 Apr 2023 23:43:55 GMT',\n",
       "   'x-amz-server-side-encryption': 'AES256',\n",
       "   'etag': '\"1962e03a7ea68cf3cc26dda23ca69565\"',\n",
       "   'server': 'AmazonS3',\n",
       "   'content-length': '0'},\n",
       "  'RetryAttempts': 0},\n",
       " 'ETag': '\"1962e03a7ea68cf3cc26dda23ca69565\"',\n",
       " 'ServerSideEncryption': 'AES256'}"
      ]
     },
     "execution_count": 27,
     "metadata": {},
     "output_type": "execute_result"
    }
   ],
   "source": [
    "s3.Object(bucket_name, 'dollar/train/train.csv').put(Body=open('data/train.csv', 'rb'))"
   ]
  },
  {
   "cell_type": "code",
   "execution_count": 28,
   "id": "16fbd3eb-7695-40db-8b37-9399ac9925fd",
   "metadata": {
    "tags": []
   },
   "outputs": [
    {
     "data": {
      "text/plain": [
       "{'ResponseMetadata': {'RequestId': '9NQ284JK9K3KCPJV',\n",
       "  'HostId': 'ujqSqpOo/T1Re90hGD7RdcHWaHuorVO1wB/l2/B/9ZfqcbnQMT0qzi2NxlQBMKMBuhoj1woZ3jI=',\n",
       "  'HTTPStatusCode': 200,\n",
       "  'HTTPHeaders': {'x-amz-id-2': 'ujqSqpOo/T1Re90hGD7RdcHWaHuorVO1wB/l2/B/9ZfqcbnQMT0qzi2NxlQBMKMBuhoj1woZ3jI=',\n",
       "   'x-amz-request-id': '9NQ284JK9K3KCPJV',\n",
       "   'date': 'Fri, 07 Apr 2023 23:43:58 GMT',\n",
       "   'x-amz-server-side-encryption': 'AES256',\n",
       "   'etag': '\"01c2d6dcfb4eafe97e26cb9a9a726432\"',\n",
       "   'server': 'AmazonS3',\n",
       "   'content-length': '0'},\n",
       "  'RetryAttempts': 0},\n",
       " 'ETag': '\"01c2d6dcfb4eafe97e26cb9a9a726432\"',\n",
       " 'ServerSideEncryption': 'AES256'}"
      ]
     },
     "execution_count": 28,
     "metadata": {},
     "output_type": "execute_result"
    }
   ],
   "source": [
    "s3.Object(bucket_name, 'dollar/test/test.csv').put(Body=open('data/test.csv', 'rb'))"
   ]
  }
 ],
 "metadata": {
  "kernelspec": {
   "display_name": "conda_python3",
   "language": "python",
   "name": "conda_python3"
  },
  "language_info": {
   "codemirror_mode": {
    "name": "ipython",
    "version": 3
   },
   "file_extension": ".py",
   "mimetype": "text/x-python",
   "name": "python",
   "nbconvert_exporter": "python",
   "pygments_lexer": "ipython3",
   "version": "3.10.8"
  }
 },
 "nbformat": 4,
 "nbformat_minor": 5
}
