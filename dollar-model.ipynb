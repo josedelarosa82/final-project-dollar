{
 "cells": [
  {
   "cell_type": "code",
   "execution_count": 1,
   "id": "ab097f6c-7095-491a-8fc6-0e7279daedcf",
   "metadata": {
    "tags": []
   },
   "outputs": [
    {
     "name": "stdout",
     "output_type": "stream",
     "text": [
      "Writing entry_point.py\n"
     ]
    }
   ],
   "source": [
    "%%writefile entry_point.py\n",
    "import argparse\n",
    "import os\n",
    "import datetime as dt\n",
    "\n",
    "from sklearn.linear_model import LinearRegression\n",
    "from sklearn.metrics import mean_absolute_error, mean_squared_error, r2_score\n",
    "\n",
    "import pandas as pd\n",
    "import joblib\n",
    "from io import StringIO\n",
    "\n",
    "def model_fn(model_dir):\n",
    "    model = joblib.load(os.path.join(model_dir, 'model.joblib'))\n",
    "    return model\n",
    "\n",
    "def predict_fn(input_object, model):\n",
    "    y_pred = model.predict_proba(input_object)[0][1]\n",
    "    return y_pred\n",
    "\n",
    "def input_fn(request_body, request_content_type):\n",
    "    print(request_body)\n",
    "   \n",
    "    df = pd.read_csv(StringIO(request_body), header=None)\n",
    "   \n",
    "    print(df)\n",
    "   \n",
    "    return df.to_numpy()\n",
    "\n",
    "if __name__ =='__main__':\n",
    "\n",
    "    parser = argparse.ArgumentParser()\n",
    "\n",
    "    # Data, model, and output directories\n",
    "    parser.add_argument('--output-data-dir', type=str, default=os.environ.get('SM_OUTPUT_DATA_DIR'))\n",
    "    parser.add_argument('--model-dir', type=str, default=os.environ.get('SM_MODEL_DIR'))\n",
    "    parser.add_argument('--train', type=str, default=os.environ.get('SM_CHANNEL_TRAIN'))\n",
    "    parser.add_argument('--test', type=str, default=os.environ.get('SM_CHANNEL_TEST'))\n",
    "    \n",
    "    args, _ = parser.parse_known_args()\n",
    "    train = pd.read_csv('{}/train.csv'.format(args.train), header=None)\n",
    "    test = pd.read_csv('{}/test.csv'.format(args.test), header=None)\n",
    "    \n",
    "    \n",
    "    \n",
    "    X_train = train.iloc[:, 1:]\n",
    "    y_train = train.iloc[:, 0]\n",
    "    \n",
    "    X_test = test.iloc[:, 1:]\n",
    "    y_test = test.iloc[:, 0]\n",
    "    \n",
    "    \n",
    "    \n",
    "    X_train = pd.to_datetime(X_train)\n",
    "    X_train = X_train.map(dt.datetime.toordinal)\n",
    "    \n",
    "    test['fecha'] = pd.to_datetime(test['fecha'])\n",
    "    test['fecha'] = test['fecha'].map(dt.datetime.toordinal)\n",
    "    \n",
    "    model = LinearRegression()\n",
    "    \n",
    "    model.fit(X_train, y_train)\n",
    "    \n",
    "    \n",
    "    y_test_predict = model.predict(X_test)\n",
    "    \n",
    "    puntuation = r2_score(y_test, y_test_predict)\n",
    "    mae = mean_absolute_error(y_test, y_test_predict)\n",
    "    mse = mean_squared_error(y_test, y_test_predict)\n",
    "    \n",
    "    print(f\"Coeficientes del modelo: {model.coef_}\")\n",
    "    print(f\"Intresección del modelo: {model.intercept_}\")\n",
    "    print(f\"Número de coeficientes del modelo: {len(model.coef_)}\")\n",
    "    \n",
    "    print(f\"Score r2: {puntuation}\")\n",
    "    print(f\"Score mae: {mae}\")\n",
    "    print(f\"Score mse: {mse}\")\n",
    "    \n",
    "    joblib.dump(model, os.path.join(args.model_dir, 'model.joblib') )\n",
    "    \n",
    "    print(train)"
   ]
  },
  {
   "cell_type": "code",
   "execution_count": 2,
   "id": "ddae6cca-64ff-45fb-9c48-c16c46b43dfa",
   "metadata": {
    "tags": []
   },
   "outputs": [
    {
     "name": "stdout",
     "output_type": "stream",
     "text": [
      "Traceback (most recent call last):\n",
      "  File \"/home/ec2-user/anaconda3/envs/python3/lib/python3.10/site-packages/pandas/core/indexes/base.py\", line 3803, in get_loc\n",
      "    return self._engine.get_loc(casted_key)\n",
      "  File \"pandas/_libs/index.pyx\", line 138, in pandas._libs.index.IndexEngine.get_loc\n",
      "  File \"pandas/_libs/index.pyx\", line 146, in pandas._libs.index.IndexEngine.get_loc\n",
      "  File \"pandas/_libs/index_class_helper.pxi\", line 49, in pandas._libs.index.Int64Engine._check_type\n",
      "KeyError: 'fecha'\n",
      "\n",
      "The above exception was the direct cause of the following exception:\n",
      "\n",
      "Traceback (most recent call last):\n",
      "  File \"/home/ec2-user/SageMaker/final-project-dollar/entry_point.py\", line 43, in <module>\n",
      "    train['fecha'] = pd.to_datetime(train['fecha'])\n",
      "  File \"/home/ec2-user/anaconda3/envs/python3/lib/python3.10/site-packages/pandas/core/frame.py\", line 3805, in __getitem__\n",
      "    indexer = self.columns.get_loc(key)\n",
      "  File \"/home/ec2-user/anaconda3/envs/python3/lib/python3.10/site-packages/pandas/core/indexes/base.py\", line 3805, in get_loc\n",
      "    raise KeyError(key) from err\n",
      "KeyError: 'fecha'\n"
     ]
    }
   ],
   "source": [
    "!python entry_point.py --train s3://final-dollar-semestre3-sa/dollar/train --test s3://final-dollar-semestre3-sa/dollar/test --model-dir ''"
   ]
  },
  {
   "cell_type": "code",
   "execution_count": 2,
   "id": "8d188a88-dfca-402c-8a5a-afbbe698f05c",
   "metadata": {
    "tags": []
   },
   "outputs": [],
   "source": [
    "import sagemaker\n",
    "from sagemaker import image_uris\n",
    "from sagemaker.estimator import Estimator"
   ]
  },
  {
   "cell_type": "code",
   "execution_count": null,
   "id": "56437b06-3bce-4e5f-96ab-1ae31cc0b914",
   "metadata": {},
   "outputs": [],
   "source": [
    "container = image_uris.retrieve(region=boto3.Session().region_name, framework=\"linear-learner\")"
   ]
  }
 ],
 "metadata": {
  "kernelspec": {
   "display_name": "conda_python3",
   "language": "python",
   "name": "conda_python3"
  },
  "language_info": {
   "codemirror_mode": {
    "name": "ipython",
    "version": 3
   },
   "file_extension": ".py",
   "mimetype": "text/x-python",
   "name": "python",
   "nbconvert_exporter": "python",
   "pygments_lexer": "ipython3",
   "version": "3.10.8"
  }
 },
 "nbformat": 4,
 "nbformat_minor": 5
}
