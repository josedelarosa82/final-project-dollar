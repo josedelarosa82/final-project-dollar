{
 "cells": [
  {
   "cell_type": "code",
   "execution_count": 40,
   "id": "ab097f6c-7095-491a-8fc6-0e7279daedcf",
   "metadata": {
    "tags": []
   },
   "outputs": [
    {
     "name": "stdout",
     "output_type": "stream",
     "text": [
      "Overwriting entry_point.py\n"
     ]
    }
   ],
   "source": [
    "%%writefile entry_point.py\n",
    "import argparse\n",
    "import os\n",
    "import datetime as dt\n",
    "import numpy as np\n",
    "from sklearn.linear_model import LinearRegression\n",
    "from sklearn.metrics import mean_absolute_error, mean_squared_error, r2_score\n",
    "\n",
    "import pandas as pd\n",
    "import joblib\n",
    "from io import StringIO\n",
    "\n",
    "def model_fn(model_dir):\n",
    "    model = joblib.load(os.path.join(model_dir, 'model.joblib'))\n",
    "    return model\n",
    "\n",
    "def predict_fn(input_object, model):\n",
    "    y_pred = model.predict_proba(input_object)[0][1]\n",
    "    return y_pred\n",
    "\n",
    "def input_fn(request_body, request_content_type):\n",
    "    print(request_body)\n",
    "   \n",
    "    df = pd.read_csv(StringIO(request_body), header=None)\n",
    "   \n",
    "    print(df)\n",
    "   \n",
    "    return df.to_numpy()\n",
    "\n",
    "if __name__ =='__main__':\n",
    "\n",
    "    parser = argparse.ArgumentParser()\n",
    "\n",
    "    # Data, model, and output directories\n",
    "    parser.add_argument('--output-data-dir', type=str, default=os.environ.get('SM_OUTPUT_DATA_DIR'))\n",
    "    parser.add_argument('--model-dir', type=str, default=os.environ.get('SM_MODEL_DIR'))\n",
    "    parser.add_argument('--train', type=str, default=os.environ.get('SM_CHANNEL_TRAIN'))\n",
    "    parser.add_argument('--test', type=str, default=os.environ.get('SM_CHANNEL_TEST'))\n",
    "    \n",
    "    args, _ = parser.parse_known_args()\n",
    "    train = pd.read_csv('{}/train.csv'.format(args.train))\n",
    "    test = pd.read_csv('{}/test.csv'.format(args.test))\n",
    "    \n",
    "    \n",
    "    \n",
    "    train['fecha'] = pd.to_datetime(train['fecha'])\n",
    "    train['fecha'] = train['fecha'].map(dt.datetime.toordinal)\n",
    "\n",
    "    test['fecha'] = pd.to_datetime(test['fecha'])\n",
    "    test['fecha'] = test['fecha'].map(dt.datetime.toordinal)\n",
    "    \n",
    "    \n",
    "    X_train = np.array(train['fecha']).reshape(-1, 1)\n",
    "    y_train = np.array(train['value']).reshape(-1, 1)\n",
    "\n",
    "    X_test = np.array(test['fecha']).reshape(-1, 1)\n",
    "    y_test = np.array(test['value']).reshape(-1, 1)\n",
    "    \n",
    "    model = LinearRegression()\n",
    "\n",
    "    model.fit(X_train, y_train)\n",
    "\n",
    "    print(model.score(X_test, y_test))\n",
    "    \n",
    "    \n",
    "    y_pred = model.predict(X_test)\n",
    "\n",
    "    print(f\"Coeficientes del modelo: {model.coef_}\")\n",
    "    print(f\"Intresección del modelo: {model.intercept_}\")\n",
    "    print(f\"Número de coeficientes del modelo: {len(model.coef_)}\")\n",
    "    \n",
    "    puntuation = r2_score(y_test, y_pred)\n",
    "    mae = mean_absolute_error(y_test, y_pred)\n",
    "    mse = mean_squared_error(y_test, y_pred)\n",
    "\n",
    "    print(f\"Score r2: {puntuation}\")\n",
    "    print(f\"Score mae: {mae}\")\n",
    "    print(f\"Score mse: {mse}\")\n",
    "\n",
    "    \n",
    "    joblib.dump(model, os.path.join(args.model_dir, 'model.joblib') )\n",
    "    \n",
    "    print(train)"
   ]
  },
  {
   "cell_type": "code",
   "execution_count": 41,
   "id": "ddae6cca-64ff-45fb-9c48-c16c46b43dfa",
   "metadata": {
    "tags": []
   },
   "outputs": [
    {
     "name": "stdout",
     "output_type": "stream",
     "text": [
      "-106.45143917751096\n",
      "Coeficientes del modelo: [[0.]]\n",
      "Intresección del modelo: [4568.84564725]\n",
      "Número de coeficientes del modelo: 1\n",
      "Score r2: -106.45143917751096\n",
      "Score mae: 2.1821889525608276\n",
      "Score mse: 4.80668215445953\n",
      "      fecha      value\n",
      "0    738615  4572.7800\n",
      "1    738615  4572.9031\n",
      "2    738615  4572.8265\n",
      "3    738615  4573.0595\n",
      "4    738615  4573.1477\n",
      "..      ...        ...\n",
      "687  738615  4571.1079\n",
      "688  738615  4571.1100\n",
      "689  738615  4571.1185\n",
      "690  738615  4571.1247\n",
      "691  738615  4571.1310\n",
      "\n",
      "[692 rows x 2 columns]\n"
     ]
    }
   ],
   "source": [
    "!python entry_point.py --train s3://final-dollar-semestre3-sa/dollar/train --test s3://final-dollar-semestre3-sa/dollar/test --model-dir ''"
   ]
  },
  {
   "cell_type": "code",
   "execution_count": 42,
   "id": "cd620b08-0c81-4c6d-87a0-89a69647bf86",
   "metadata": {
    "tags": []
   },
   "outputs": [],
   "source": [
    "import sagemaker\n",
    "from sagemaker.sklearn.estimator import SKLearn"
   ]
  },
  {
   "cell_type": "code",
   "execution_count": 43,
   "id": "0a9be413-efa8-4daa-9258-449ccf465737",
   "metadata": {
    "tags": []
   },
   "outputs": [],
   "source": [
    "estimator = SKLearn(role='Labrole', instance_type='ml.m4.xlarge',\n",
    "                   entry_point='entry_point.py',\n",
    "                   framework_version='1.0-1')"
   ]
  },
  {
   "cell_type": "code",
   "execution_count": null,
   "id": "a8aca87e-00e7-4964-9f3f-301c69f5bbc2",
   "metadata": {
    "tags": []
   },
   "outputs": [
    {
     "name": "stderr",
     "output_type": "stream",
     "text": [
      "INFO:sagemaker:Creating training-job with name: sagemaker-scikit-learn-2023-04-08-01-55-03-087\n"
     ]
    },
    {
     "name": "stdout",
     "output_type": "stream",
     "text": [
      "2023-04-08 01:55:05 Starting - Starting the training job...\n",
      "2023-04-08 01:55:29 Starting - Preparing the instances for training......."
     ]
    }
   ],
   "source": [
    "estimator.fit({'train':'s3://final-dollar-semestre3-sa/dollar/train',\n",
    "               'test':'s3://final-dollar-semestre3-sa/dollar/test'})"
   ]
  },
  {
   "cell_type": "code",
   "execution_count": null,
   "id": "4ed6781c-1d72-49d7-8448-1577e39cb581",
   "metadata": {},
   "outputs": [],
   "source": []
  }
 ],
 "metadata": {
  "kernelspec": {
   "display_name": "conda_python3",
   "language": "python",
   "name": "conda_python3"
  },
  "language_info": {
   "codemirror_mode": {
    "name": "ipython",
    "version": 3
   },
   "file_extension": ".py",
   "mimetype": "text/x-python",
   "name": "python",
   "nbconvert_exporter": "python",
   "pygments_lexer": "ipython3",
   "version": "3.10.8"
  }
 },
 "nbformat": 4,
 "nbformat_minor": 5
}
