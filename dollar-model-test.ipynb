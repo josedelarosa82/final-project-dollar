{
 "cells": [
  {
   "cell_type": "code",
   "execution_count": 4,
   "id": "8d188a88-dfca-402c-8a5a-afbbe698f05c",
   "metadata": {
    "tags": []
   },
   "outputs": [],
   "source": [
    "import sagemaker\n",
    "from sagemaker import image_uris\n",
    "from sagemaker.estimator import Estimator"
   ]
  },
  {
   "cell_type": "code",
   "execution_count": 5,
   "id": "56437b06-3bce-4e5f-96ab-1ae31cc0b914",
   "metadata": {
    "tags": []
   },
   "outputs": [],
   "source": [
    "#container = image_uris.retrieve(region=boto3.Session().region_name, framework=\"linear-learner\")"
   ]
  },
  {
   "cell_type": "code",
   "execution_count": 31,
   "id": "ca991659-b607-40f0-a76e-6e8c1ddd8d54",
   "metadata": {
    "tags": []
   },
   "outputs": [],
   "source": [
    "import datetime as dt\n",
    "import numpy as np\n",
    "from sklearn.linear_model import LinearRegression\n",
    "from sklearn.metrics import mean_absolute_error, mean_squared_error, r2_score\n",
    "\n",
    "import pandas as pd\n",
    "train = pd.read_csv('data/train.csv')\n",
    "test = pd.read_csv('data/test.csv')"
   ]
  },
  {
   "cell_type": "code",
   "execution_count": 33,
   "id": "55846245-36b9-49e6-a911-a8a8f3c0a66f",
   "metadata": {
    "tags": []
   },
   "outputs": [],
   "source": [
    "train['fecha'] = pd.to_datetime(train['fecha'])\n",
    "train['fecha'] = train['fecha'].map(dt.datetime.toordinal)\n",
    "\n",
    "test['fecha'] = pd.to_datetime(test['fecha'])\n",
    "test['fecha'] = test['fecha'].map(dt.datetime.toordinal)"
   ]
  },
  {
   "cell_type": "code",
   "execution_count": 34,
   "id": "ae7d49e9-dae6-48cd-a5e2-e6955ebb47c6",
   "metadata": {
    "tags": []
   },
   "outputs": [],
   "source": [
    "X_train = np.array(train['fecha']).reshape(-1, 1)\n",
    "y_train = np.array(train['value']).reshape(-1, 1)\n",
    "\n",
    "X_test = np.array(test['fecha']).reshape(-1, 1)\n",
    "y_test = np.array(test['value']).reshape(-1, 1)"
   ]
  },
  {
   "cell_type": "code",
   "execution_count": 35,
   "id": "281ff731-79c4-44a7-8766-e7908fbcf3f6",
   "metadata": {
    "tags": []
   },
   "outputs": [
    {
     "name": "stdout",
     "output_type": "stream",
     "text": [
      " len X_train:<class 'numpy.ndarray'>, len X_test:<class 'numpy.ndarray'> \n",
      " len y_train:<class 'numpy.ndarray'>, len y_test:<class 'numpy.ndarray'> \n"
     ]
    }
   ],
   "source": [
    "print(f\" len X_train:{type(X_train)}, len X_test:{type(X_test)} \")\n",
    "print(f\" len y_train:{type(y_train)}, len y_test:{type(y_test)} \")"
   ]
  },
  {
   "cell_type": "code",
   "execution_count": 36,
   "id": "99d0879f-d503-4d5f-ab8e-7df9ba98a951",
   "metadata": {
    "tags": []
   },
   "outputs": [
    {
     "name": "stdout",
     "output_type": "stream",
     "text": [
      " len X_train:692, len X_test:174 \n",
      " len y_train:692, len y_test:174 \n"
     ]
    }
   ],
   "source": [
    "print(f\" len X_train:{len(X_train)}, len X_test:{len(X_test)} \")\n",
    "print(f\" len y_train:{len(y_train)}, len y_test:{len(y_test)} \")"
   ]
  },
  {
   "cell_type": "code",
   "execution_count": 37,
   "id": "718069f6-fa62-431d-8a51-77d42a2f1e02",
   "metadata": {
    "tags": []
   },
   "outputs": [
    {
     "name": "stdout",
     "output_type": "stream",
     "text": [
      "-106.45143917751096\n"
     ]
    }
   ],
   "source": [
    "model = LinearRegression()\n",
    "\n",
    "model.fit(X_train, y_train)\n",
    "\n",
    "print(model.score(X_test, y_test))"
   ]
  },
  {
   "cell_type": "code",
   "execution_count": 38,
   "id": "bcbbac53-ad82-4c09-a5c0-687effe29836",
   "metadata": {
    "tags": []
   },
   "outputs": [
    {
     "name": "stdout",
     "output_type": "stream",
     "text": [
      "Coeficientes del modelo: [[0.]]\n",
      "Intresección del modelo: [4568.84564725]\n",
      "Número de coeficientes del modelo: 1\n"
     ]
    }
   ],
   "source": [
    "y_pred = model.predict(X_test)\n",
    "\n",
    "print(f\"Coeficientes del modelo: {model.coef_}\")\n",
    "print(f\"Intresección del modelo: {model.intercept_}\")\n",
    "print(f\"Número de coeficientes del modelo: {len(model.coef_)}\")\n",
    "\n"
   ]
  },
  {
   "cell_type": "code",
   "execution_count": 39,
   "id": "8abb7ae4-3439-4487-b7cd-d815f5b2c3e1",
   "metadata": {
    "tags": []
   },
   "outputs": [
    {
     "name": "stdout",
     "output_type": "stream",
     "text": [
      "Score r2: -106.45143917751096\n",
      "Score mae: 2.1821889525608276\n",
      "Score mse: 4.80668215445953\n"
     ]
    }
   ],
   "source": [
    "\n",
    "puntuation = r2_score(y_test, y_pred)\n",
    "mae = mean_absolute_error(y_test, y_pred)\n",
    "mse = mean_squared_error(y_test, y_pred)\n",
    "\n",
    "print(f\"Score r2: {puntuation}\")\n",
    "print(f\"Score mae: {mae}\")\n",
    "print(f\"Score mse: {mse}\")\n",
    "\n"
   ]
  }
 ],
 "metadata": {
  "kernelspec": {
   "display_name": "conda_python3",
   "language": "python",
   "name": "conda_python3"
  },
  "language_info": {
   "codemirror_mode": {
    "name": "ipython",
    "version": 3
   },
   "file_extension": ".py",
   "mimetype": "text/x-python",
   "name": "python",
   "nbconvert_exporter": "python",
   "pygments_lexer": "ipython3",
   "version": "3.10.8"
  }
 },
 "nbformat": 4,
 "nbformat_minor": 5
}
