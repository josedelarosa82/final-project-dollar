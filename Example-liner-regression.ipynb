{
 "cells": [
  {
   "cell_type": "code",
   "execution_count": null,
   "id": "ac2a1300-2586-4e77-af0e-117f19d67595",
   "metadata": {},
   "outputs": [],
   "source": [
    "import numpy as np\n",
    "import pandas as pd\n",
    "import seaborn as sns\n",
    "import matplotlib.pyplot as plt\n",
    "from sklearn import preprocessing, svm\n",
    "from sklearn.model_selection import train_test_split\n",
    "from sklearn.linear_model import LinearRegression"
   ]
  },
  {
   "cell_type": "code",
   "execution_count": null,
   "id": "762ea050-1c5b-4dc7-ac24-39d915d23b8e",
   "metadata": {},
   "outputs": [],
   "source": [
    "df = pd.read_csv('bottle.csv')\n",
    "df_binary = df[['Salnty', 'T_degC']]\n",
    " \n",
    "# Taking only the selected two attributes from the dataset\n",
    "df_binary.columns = ['Sal', 'Temp']\n",
    "#display the first 5 rows\n",
    "df_binary.head()"
   ]
  },
  {
   "cell_type": "code",
   "execution_count": null,
   "id": "d5cb6ef2-e31e-4337-a789-ea1cb00da071",
   "metadata": {},
   "outputs": [],
   "source": [
    "\n",
    "#plotting the Scatter plot to check relationship between Sal and Temp\n",
    "sns.lmplot(x =\"Sal\", y =\"Temp\", data = df_binary, order = 2, ci = None)\n",
    "plt.show()"
   ]
  },
  {
   "cell_type": "code",
   "execution_count": null,
   "id": "34d58a1a-9ebd-4f47-99f3-de336c6281b6",
   "metadata": {},
   "outputs": [],
   "source": [
    "# Eliminating NaN or missing input numbers\n",
    "df_binary.fillna(method ='ffill', inplace = True)"
   ]
  },
  {
   "cell_type": "code",
   "execution_count": null,
   "id": "5febb036-51af-4999-bc3d-86c148c42246",
   "metadata": {},
   "outputs": [],
   "source": [
    "X = np.array(df_binary['Sal']).reshape(-1, 1)\n",
    "y = np.array(df_binary['Temp']).reshape(-1, 1)\n",
    " \n",
    "# Separating the data into independent and dependent variables\n",
    "# Converting each dataframe into a numpy array\n",
    "# since each dataframe contains only one column\n",
    "df_binary.dropna(inplace = True)\n",
    " \n",
    "# Dropping any rows with Nan values\n",
    "X_train, X_test, y_train, y_test = train_test_split(X, y, test_size = 0.25)\n",
    " \n",
    "# Splitting the data into training and testing data\n",
    "regr = LinearRegression()\n",
    " \n",
    "regr.fit(X_train, y_train)\n",
    "print(regr.score(X_test, y_test))"
   ]
  },
  {
   "cell_type": "code",
   "execution_count": null,
   "id": "f4f14b17-932f-44ca-a123-1498fa0819a2",
   "metadata": {},
   "outputs": [],
   "source": [
    "y_pred = regr.predict(X_test)\n",
    "plt.scatter(X_test, y_test, color ='b')\n",
    "plt.plot(X_test, y_pred, color ='k')\n",
    " \n",
    "plt.show()\n",
    "# Data scatter of predicted values"
   ]
  },
  {
   "cell_type": "code",
   "execution_count": null,
   "id": "245beccb-6831-4f52-b562-c29ca0bcd890",
   "metadata": {},
   "outputs": [],
   "source": [
    "df_binary500 = df_binary[:][:500]\n",
    "   \n",
    "# Selecting the 1st 500 rows of the data\n",
    "sns.lmplot(x =\"Sal\", y =\"Temp\", data = df_binary500,\n",
    "                               order = 2, ci = None)"
   ]
  },
  {
   "cell_type": "code",
   "execution_count": null,
   "id": "49e22a54-0c00-46ef-8e2c-efca075cf52b",
   "metadata": {},
   "outputs": [],
   "source": [
    "df_binary500.fillna(method ='ffill', inplace = True)\n",
    " \n",
    "X = np.array(df_binary500['Sal']).reshape(-1, 1)\n",
    "y = np.array(df_binary500['Temp']).reshape(-1, 1)\n",
    " \n",
    "df_binary500.dropna(inplace = True)\n",
    "X_train, X_test, y_train, y_test = train_test_split(X, y, test_size = 0.25)\n",
    " \n",
    "regr = LinearRegression()\n",
    "regr.fit(X_train, y_train)\n",
    "print(regr.score(X_test, y_test))"
   ]
  },
  {
   "cell_type": "code",
   "execution_count": null,
   "id": "14299a63-c879-403c-a8f2-b7d4253d0c62",
   "metadata": {},
   "outputs": [],
   "source": [
    "y_pred = regr.predict(X_test)\n",
    "plt.scatter(X_test, y_test, color ='b')\n",
    "plt.plot(X_test, y_pred, color ='k')\n",
    " \n",
    "plt.show()"
   ]
  },
  {
   "cell_type": "code",
   "execution_count": null,
   "id": "391f6e63-1c45-4c25-a22f-9a7a3f7e50d6",
   "metadata": {
    "tags": []
   },
   "outputs": [],
   "source": [
    "from sklearn.metrics import mean_absolute_error,mean_squared_error\n",
    " \n",
    "mae = mean_absolute_error(y_true=y_test,y_pred=y_pred)\n",
    "#squared True returns MSE value, False returns RMSE value.\n",
    "mse = mean_squared_error(y_true=y_test,y_pred=y_pred) #default=True\n",
    "rmse = mean_squared_error(y_true=y_test,y_pred=y_pred,squared=False)\n",
    " \n",
    "print(\"MAE:\",mae)\n",
    "print(\"MSE:\",mse)\n",
    "print(\"RMSE:\",rmse)"
   ]
  }
 ],
 "metadata": {
  "kernelspec": {
   "display_name": "conda_python3",
   "language": "python",
   "name": "conda_python3"
  },
  "language_info": {
   "codemirror_mode": {
    "name": "ipython",
    "version": 3
   },
   "file_extension": ".py",
   "mimetype": "text/x-python",
   "name": "python",
   "nbconvert_exporter": "python",
   "pygments_lexer": "ipython3",
   "version": "3.10.8"
  }
 },
 "nbformat": 4,
 "nbformat_minor": 5
}
